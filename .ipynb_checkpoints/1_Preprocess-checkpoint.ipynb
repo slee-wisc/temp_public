{
 "cells": [
  {
   "cell_type": "markdown",
   "metadata": {},
   "source": [
    "## Data Explotation\n",
    "- For each attribute, calculate appropriate measure between the result and the attribute\n",
    "- Draw corrleation\n",
    "- Divide types of the attribute\n",
    "- and then, show the table head"
   ]
  },
  {
   "cell_type": "code",
   "execution_count": 1,
   "metadata": {
    "collapsed": true
   },
   "outputs": [],
   "source": [
    "import pandas as pd\n",
    "import numpy  as np\n",
    "orig = pd.read_csv('copd_final_csv.csv')"
   ]
  },
  {
   "cell_type": "code",
   "execution_count": 2,
   "metadata": {
    "collapsed": true
   },
   "outputs": [],
   "source": [
    "orig['NAme'] = \"A\" # hiding the names of patient"
   ]
  },
  {
   "cell_type": "code",
   "execution_count": 3,
   "metadata": {},
   "outputs": [
    {
     "data": {
      "text/html": [
       "<div>\n",
       "<style>\n",
       "    .dataframe thead tr:only-child th {\n",
       "        text-align: right;\n",
       "    }\n",
       "\n",
       "    .dataframe thead th {\n",
       "        text-align: left;\n",
       "    }\n",
       "\n",
       "    .dataframe tbody tr th {\n",
       "        vertical-align: top;\n",
       "    }\n",
       "</style>\n",
       "<table border=\"1\" class=\"dataframe\">\n",
       "  <thead>\n",
       "    <tr style=\"text-align: right;\">\n",
       "      <th></th>\n",
       "      <th>Number</th>\n",
       "      <th>Patient Number</th>\n",
       "      <th>NAme</th>\n",
       "      <th>age</th>\n",
       "      <th>sex</th>\n",
       "      <th>marital</th>\n",
       "      <th>Employed</th>\n",
       "      <th>admission date</th>\n",
       "      <th>readmission day</th>\n",
       "      <th>Whether readmitted in 30days</th>\n",
       "      <th>...</th>\n",
       "      <th>BP</th>\n",
       "      <th>pulse</th>\n",
       "      <th>temp</th>\n",
       "      <th>Resp</th>\n",
       "      <th>height</th>\n",
       "      <th>weight</th>\n",
       "      <th>BMI</th>\n",
       "      <th>SpO2</th>\n",
       "      <th>Have help at home</th>\n",
       "      <th>Home Equipment(Use O2)</th>\n",
       "    </tr>\n",
       "  </thead>\n",
       "  <tbody>\n",
       "    <tr>\n",
       "      <th>0</th>\n",
       "      <td>1</td>\n",
       "      <td>1</td>\n",
       "      <td>A</td>\n",
       "      <td>83</td>\n",
       "      <td>female</td>\n",
       "      <td>married</td>\n",
       "      <td>retired</td>\n",
       "      <td>7/25/2012</td>\n",
       "      <td>NaN</td>\n",
       "      <td>0</td>\n",
       "      <td>...</td>\n",
       "      <td>NaN</td>\n",
       "      <td>74.0</td>\n",
       "      <td>98.1</td>\n",
       "      <td>18.0</td>\n",
       "      <td>1.549</td>\n",
       "      <td>45.100</td>\n",
       "      <td>18.79</td>\n",
       "      <td>0.92</td>\n",
       "      <td>1.0</td>\n",
       "      <td>1.0</td>\n",
       "    </tr>\n",
       "    <tr>\n",
       "      <th>1</th>\n",
       "      <td>2</td>\n",
       "      <td>1</td>\n",
       "      <td>A</td>\n",
       "      <td>83</td>\n",
       "      <td>female</td>\n",
       "      <td>married</td>\n",
       "      <td>retired</td>\n",
       "      <td>7/13/2012</td>\n",
       "      <td>12.0</td>\n",
       "      <td>1</td>\n",
       "      <td>...</td>\n",
       "      <td>96/28</td>\n",
       "      <td>84.0</td>\n",
       "      <td>97.3</td>\n",
       "      <td>16.0</td>\n",
       "      <td>1.549</td>\n",
       "      <td>45.360</td>\n",
       "      <td>18.89</td>\n",
       "      <td>0.98</td>\n",
       "      <td>0.0</td>\n",
       "      <td>1.0</td>\n",
       "    </tr>\n",
       "    <tr>\n",
       "      <th>2</th>\n",
       "      <td>3</td>\n",
       "      <td>1</td>\n",
       "      <td>A</td>\n",
       "      <td>83</td>\n",
       "      <td>female</td>\n",
       "      <td>married</td>\n",
       "      <td>retired</td>\n",
       "      <td>7/10/2012</td>\n",
       "      <td>3.0</td>\n",
       "      <td>1</td>\n",
       "      <td>...</td>\n",
       "      <td>119/50</td>\n",
       "      <td>88.0</td>\n",
       "      <td>98.0</td>\n",
       "      <td>22.0</td>\n",
       "      <td>1.524</td>\n",
       "      <td>46.720</td>\n",
       "      <td>20.12</td>\n",
       "      <td>0.99</td>\n",
       "      <td>1.0</td>\n",
       "      <td>1.0</td>\n",
       "    </tr>\n",
       "    <tr>\n",
       "      <th>3</th>\n",
       "      <td>4</td>\n",
       "      <td>1</td>\n",
       "      <td>A</td>\n",
       "      <td>83</td>\n",
       "      <td>female</td>\n",
       "      <td>married</td>\n",
       "      <td>retired</td>\n",
       "      <td>6/27/2012</td>\n",
       "      <td>13.0</td>\n",
       "      <td>1</td>\n",
       "      <td>...</td>\n",
       "      <td>116/80</td>\n",
       "      <td>79.0</td>\n",
       "      <td>97.6</td>\n",
       "      <td>22.0</td>\n",
       "      <td>NaN</td>\n",
       "      <td>NaN</td>\n",
       "      <td>NaN</td>\n",
       "      <td>0.95</td>\n",
       "      <td>0.0</td>\n",
       "      <td>1.0</td>\n",
       "    </tr>\n",
       "    <tr>\n",
       "      <th>4</th>\n",
       "      <td>5</td>\n",
       "      <td>1</td>\n",
       "      <td>A</td>\n",
       "      <td>82</td>\n",
       "      <td>female</td>\n",
       "      <td>married</td>\n",
       "      <td>retired</td>\n",
       "      <td>10/10/2011</td>\n",
       "      <td>NaN</td>\n",
       "      <td>0</td>\n",
       "      <td>...</td>\n",
       "      <td>113/47</td>\n",
       "      <td>96.0</td>\n",
       "      <td>98.7</td>\n",
       "      <td>16.0</td>\n",
       "      <td>NaN</td>\n",
       "      <td>NaN</td>\n",
       "      <td>NaN</td>\n",
       "      <td>0.96</td>\n",
       "      <td>1.0</td>\n",
       "      <td>NaN</td>\n",
       "    </tr>\n",
       "    <tr>\n",
       "      <th>5</th>\n",
       "      <td>6</td>\n",
       "      <td>2</td>\n",
       "      <td>A</td>\n",
       "      <td>70</td>\n",
       "      <td>female</td>\n",
       "      <td>married</td>\n",
       "      <td>retired</td>\n",
       "      <td>4/5/2016</td>\n",
       "      <td>NaN</td>\n",
       "      <td>0</td>\n",
       "      <td>...</td>\n",
       "      <td>125/84</td>\n",
       "      <td>62.0</td>\n",
       "      <td>97.2</td>\n",
       "      <td>20.0</td>\n",
       "      <td>1.626</td>\n",
       "      <td>53.000</td>\n",
       "      <td>20.05</td>\n",
       "      <td>0.95</td>\n",
       "      <td>1.0</td>\n",
       "      <td>0.0</td>\n",
       "    </tr>\n",
       "    <tr>\n",
       "      <th>6</th>\n",
       "      <td>7</td>\n",
       "      <td>3</td>\n",
       "      <td>A</td>\n",
       "      <td>53</td>\n",
       "      <td>female</td>\n",
       "      <td>married</td>\n",
       "      <td>notemployed</td>\n",
       "      <td>7/20/2015</td>\n",
       "      <td>NaN</td>\n",
       "      <td>0</td>\n",
       "      <td>...</td>\n",
       "      <td>116/68</td>\n",
       "      <td>136.0</td>\n",
       "      <td>NaN</td>\n",
       "      <td>NaN</td>\n",
       "      <td>NaN</td>\n",
       "      <td>57.600</td>\n",
       "      <td>NaN</td>\n",
       "      <td>0.81</td>\n",
       "      <td>1.0</td>\n",
       "      <td>0.0</td>\n",
       "    </tr>\n",
       "    <tr>\n",
       "      <th>7</th>\n",
       "      <td>8</td>\n",
       "      <td>3</td>\n",
       "      <td>A</td>\n",
       "      <td>49</td>\n",
       "      <td>female</td>\n",
       "      <td>married</td>\n",
       "      <td>notemployed</td>\n",
       "      <td>1/5/2011</td>\n",
       "      <td>NaN</td>\n",
       "      <td>0</td>\n",
       "      <td>...</td>\n",
       "      <td>104/65</td>\n",
       "      <td>109.0</td>\n",
       "      <td>98.8</td>\n",
       "      <td>18.0</td>\n",
       "      <td>NaN</td>\n",
       "      <td>57.600</td>\n",
       "      <td>19.31</td>\n",
       "      <td>0.93</td>\n",
       "      <td>1.0</td>\n",
       "      <td>0.0</td>\n",
       "    </tr>\n",
       "    <tr>\n",
       "      <th>8</th>\n",
       "      <td>9</td>\n",
       "      <td>4</td>\n",
       "      <td>A</td>\n",
       "      <td>69</td>\n",
       "      <td>female</td>\n",
       "      <td>widow</td>\n",
       "      <td>notemployed</td>\n",
       "      <td>4/24/2012</td>\n",
       "      <td>NaN</td>\n",
       "      <td>0</td>\n",
       "      <td>...</td>\n",
       "      <td>138/69</td>\n",
       "      <td>84.0</td>\n",
       "      <td>97.7</td>\n",
       "      <td>20.0</td>\n",
       "      <td>1.727</td>\n",
       "      <td>81.000</td>\n",
       "      <td>27.15</td>\n",
       "      <td>NaN</td>\n",
       "      <td>1.0</td>\n",
       "      <td>0.0</td>\n",
       "    </tr>\n",
       "    <tr>\n",
       "      <th>9</th>\n",
       "      <td>10</td>\n",
       "      <td>5</td>\n",
       "      <td>A</td>\n",
       "      <td>44</td>\n",
       "      <td>female</td>\n",
       "      <td>single</td>\n",
       "      <td>disabled</td>\n",
       "      <td>10/15/2014</td>\n",
       "      <td>NaN</td>\n",
       "      <td>0</td>\n",
       "      <td>...</td>\n",
       "      <td>98/60</td>\n",
       "      <td>88.0</td>\n",
       "      <td>NaN</td>\n",
       "      <td>NaN</td>\n",
       "      <td>NaN</td>\n",
       "      <td>87.091</td>\n",
       "      <td>30.99</td>\n",
       "      <td>NaN</td>\n",
       "      <td>1.0</td>\n",
       "      <td>NaN</td>\n",
       "    </tr>\n",
       "  </tbody>\n",
       "</table>\n",
       "<p>10 rows × 44 columns</p>\n",
       "</div>"
      ],
      "text/plain": [
       "   Number  Patient Number NAme  age     sex  marital     Employed  \\\n",
       "0       1               1    A   83  female  married      retired   \n",
       "1       2               1    A   83  female  married      retired   \n",
       "2       3               1    A   83  female  married      retired   \n",
       "3       4               1    A   83  female  married      retired   \n",
       "4       5               1    A   82  female  married      retired   \n",
       "5       6               2    A   70  female  married      retired   \n",
       "6       7               3    A   53  female  married  notemployed   \n",
       "7       8               3    A   49  female  married  notemployed   \n",
       "8       9               4    A   69  female    widow  notemployed   \n",
       "9      10               5    A   44  female   single     disabled   \n",
       "\n",
       "  admission date  readmission day  Whether readmitted in 30days  \\\n",
       "0      7/25/2012              NaN                             0   \n",
       "1      7/13/2012             12.0                             1   \n",
       "2      7/10/2012              3.0                             1   \n",
       "3      6/27/2012             13.0                             1   \n",
       "4     10/10/2011              NaN                             0   \n",
       "5       4/5/2016              NaN                             0   \n",
       "6      7/20/2015              NaN                             0   \n",
       "7       1/5/2011              NaN                             0   \n",
       "8      4/24/2012              NaN                             0   \n",
       "9     10/15/2014              NaN                             0   \n",
       "\n",
       "            ...                BP  pulse  temp  Resp  height  weight    BMI  \\\n",
       "0           ...               NaN   74.0  98.1  18.0   1.549  45.100  18.79   \n",
       "1           ...             96/28   84.0  97.3  16.0   1.549  45.360  18.89   \n",
       "2           ...            119/50   88.0  98.0  22.0   1.524  46.720  20.12   \n",
       "3           ...            116/80   79.0  97.6  22.0     NaN     NaN    NaN   \n",
       "4           ...            113/47   96.0  98.7  16.0     NaN     NaN    NaN   \n",
       "5           ...            125/84   62.0  97.2  20.0   1.626  53.000  20.05   \n",
       "6           ...            116/68  136.0   NaN   NaN     NaN  57.600    NaN   \n",
       "7           ...            104/65  109.0  98.8  18.0     NaN  57.600  19.31   \n",
       "8           ...            138/69   84.0  97.7  20.0   1.727  81.000  27.15   \n",
       "9           ...             98/60   88.0   NaN   NaN     NaN  87.091  30.99   \n",
       "\n",
       "   SpO2 Have help at home  Home Equipment(Use O2)  \n",
       "0  0.92               1.0                     1.0  \n",
       "1  0.98               0.0                     1.0  \n",
       "2  0.99               1.0                     1.0  \n",
       "3  0.95               0.0                     1.0  \n",
       "4  0.96               1.0                     NaN  \n",
       "5  0.95               1.0                     0.0  \n",
       "6  0.81               1.0                     0.0  \n",
       "7  0.93               1.0                     0.0  \n",
       "8   NaN               1.0                     0.0  \n",
       "9   NaN               1.0                     NaN  \n",
       "\n",
       "[10 rows x 44 columns]"
      ]
     },
     "execution_count": 3,
     "metadata": {},
     "output_type": "execute_result"
    }
   ],
   "source": [
    "orig.head(10)"
   ]
  },
  {
   "cell_type": "code",
   "execution_count": 4,
   "metadata": {},
   "outputs": [
    {
     "name": "stdout",
     "output_type": "stream",
     "text": [
      "<class 'pandas.core.frame.DataFrame'>\n",
      "RangeIndex: 1565 entries, 0 to 1564\n",
      "Data columns (total 44 columns):\n",
      "Number                                           1565 non-null int64\n",
      "Patient Number                                   1565 non-null int64\n",
      "NAme                                             1565 non-null object\n",
      "age                                              1565 non-null int64\n",
      "sex                                              1565 non-null object\n",
      "marital                                          1564 non-null object\n",
      "Employed                                         1565 non-null object\n",
      "admission date                                   1565 non-null object\n",
      "readmission day                                  261 non-null float64\n",
      "Whether readmitted in 30days                     1565 non-null int64\n",
      "winter/autumn                                    1565 non-null int64\n",
      "admission times                                  1564 non-null float64\n",
      "readmission in 30 days in the past               1565 non-null int64\n",
      "Severe allergies                                 1546 non-null float64\n",
      "FEV1/FVC                                         1034 non-null float64\n",
      "COPD type(1:bronchis 2:emphy.. 3. 1+2            1386 non-null float64\n",
      "Cardiac Comorbities                              1556 non-null float64\n",
      "Rehab center for exercise or not(1:yes 0:not)    1562 non-null float64\n",
      "PulmoNAry MD                                     1504 non-null object\n",
      "office visit or not                              1565 non-null int64\n",
      "days of admission                                1564 non-null float64\n",
      "Attitude to Care(R:resloved A:active D:done)     1561 non-null object\n",
      "anxiety                                          1563 non-null float64\n",
      "Education                                        1555 non-null object\n",
      "Tobacco use history(year*package/day)            1375 non-null float64\n",
      "whether use tabacco now                          1561 non-null float64\n",
      "alcohol intake                                   1562 non-null float64\n",
      "drug intake                                      1536 non-null float64\n",
      "sexually activity                                703 non-null float64\n",
      "number of children                               772 non-null float64\n",
      "years of education                               175 non-null float64\n",
      "race                                             1564 non-null object\n",
      "polluted/heavy work                              323 non-null float64\n",
      "note                                             1033 non-null object\n",
      "BP                                               1514 non-null object\n",
      "pulse                                            1476 non-null float64\n",
      "temp                                             1401 non-null float64\n",
      "Resp                                             1392 non-null float64\n",
      "height                                           701 non-null float64\n",
      "weight                                           784 non-null float64\n",
      "BMI                                              602 non-null float64\n",
      "SpO2                                             1451 non-null float64\n",
      "Have help at home                                1262 non-null float64\n",
      "Home Equipment(Use O2)                           1361 non-null float64\n",
      "dtypes: float64(26), int64(7), object(11)\n",
      "memory usage: 470.8+ KB\n"
     ]
    }
   ],
   "source": [
    "orig.info()"
   ]
  },
  {
   "cell_type": "code",
   "execution_count": 5,
   "metadata": {},
   "outputs": [
    {
     "data": {
      "text/plain": [
       "Index([u'Number', u'Patient Number', u'NAme', u'age', u'sex', u'marital',\n",
       "       u'Employed', u'admission date', u'readmission day',\n",
       "       u'Whether readmitted in 30days', u'winter/autumn', u'admission times',\n",
       "       u'readmission in 30 days in the past', u'Severe allergies', u'FEV1/FVC',\n",
       "       u'COPD type(1:bronchis 2:emphy.. 3. 1+2', u'Cardiac Comorbities',\n",
       "       u'Rehab center for exercise or not(1:yes 0:not)', u'PulmoNAry MD',\n",
       "       u'office visit or not', u'days of admission',\n",
       "       u'Attitude to Care(R:resloved A:active D:done)', u'anxiety',\n",
       "       u'Education', u'Tobacco use history(year*package/day)',\n",
       "       u'whether use tabacco now', u'alcohol intake', u'drug intake',\n",
       "       u'sexually activity ', u'number of children', u'years of education',\n",
       "       u'race', u'polluted/heavy work ', u'note', u'BP', u'pulse', u'temp',\n",
       "       u'Resp', u'height', u'weight', u'BMI', u'SpO2', u'Have help at home',\n",
       "       u'Home Equipment(Use O2)'],\n",
       "      dtype='object')"
      ]
     },
     "execution_count": 5,
     "metadata": {},
     "output_type": "execute_result"
    }
   ],
   "source": [
    "orig.columns"
   ]
  },
  {
   "cell_type": "code",
   "execution_count": 6,
   "metadata": {
    "collapsed": true
   },
   "outputs": [],
   "source": [
    "# rename\n",
    "cols = ['id','pt_id','name','age','sex','marital',\n",
    "        'employed','admission_date','readmission_date',\n",
    "        'readmit_30days','cold_season','adm_times',\n",
    "        'past_readmit_30days','severe_allergies','fev1_fvc',\n",
    "        'copd_type','cardiac_como',\n",
    "        'rehab_center','pulmonary_MD',\n",
    "        'office_visit','days_admission',\n",
    "        'attitude_to_care','anxiety',\n",
    "        'education','tabacco_history',\n",
    "        'tabacco_now','alcohol','drug',\n",
    "        'sexual_act','num_children','year_edu',\n",
    "        'race','polluted_heavy_work','note','BP','pulse','temp',\n",
    "        'resp','height','weight','bmi','sp02','have_help_at_home',\n",
    "        'home_equipment']"
   ]
  },
  {
   "cell_type": "code",
   "execution_count": 7,
   "metadata": {
    "collapsed": true
   },
   "outputs": [],
   "source": [
    "orig.columns = cols"
   ]
  },
  {
   "cell_type": "code",
   "execution_count": 8,
   "metadata": {
    "collapsed": true
   },
   "outputs": [],
   "source": [
    "# disclude 0,2,7,8,18,33\n",
    "main_cols = [cols[i] for i in [1,3,4,5,6,9,10,11,12,13,14,15,16,17,19,20,\n",
    "                                  21,22,23,24,25,26,27,28,29,30,31,32,34,35,36,37,38,39,40,41,42,43]]"
   ]
  },
  {
   "cell_type": "code",
   "execution_count": 9,
   "metadata": {},
   "outputs": [
    {
     "data": {
      "text/plain": [
       "['pt_id',\n",
       " 'age',\n",
       " 'sex',\n",
       " 'marital',\n",
       " 'employed',\n",
       " 'readmit_30days',\n",
       " 'cold_season',\n",
       " 'adm_times',\n",
       " 'past_readmit_30days',\n",
       " 'severe_allergies',\n",
       " 'fev1_fvc',\n",
       " 'copd_type',\n",
       " 'cardiac_como',\n",
       " 'rehab_center',\n",
       " 'office_visit',\n",
       " 'days_admission',\n",
       " 'attitude_to_care',\n",
       " 'anxiety',\n",
       " 'education',\n",
       " 'tabacco_history',\n",
       " 'tabacco_now',\n",
       " 'alcohol',\n",
       " 'drug',\n",
       " 'sexual_act',\n",
       " 'num_children',\n",
       " 'year_edu',\n",
       " 'race',\n",
       " 'polluted_heavy_work',\n",
       " 'BP',\n",
       " 'pulse',\n",
       " 'temp',\n",
       " 'resp',\n",
       " 'height',\n",
       " 'weight',\n",
       " 'bmi',\n",
       " 'sp02',\n",
       " 'have_help_at_home',\n",
       " 'home_equipment']"
      ]
     },
     "execution_count": 9,
     "metadata": {},
     "output_type": "execute_result"
    }
   ],
   "source": [
    "main_cols"
   ]
  },
  {
   "cell_type": "code",
   "execution_count": 10,
   "metadata": {},
   "outputs": [
    {
     "data": {
      "text/plain": [
       "38"
      ]
     },
     "execution_count": 10,
     "metadata": {},
     "output_type": "execute_result"
    }
   ],
   "source": [
    "len(main_cols)"
   ]
  },
  {
   "cell_type": "code",
   "execution_count": 11,
   "metadata": {
    "collapsed": true
   },
   "outputs": [],
   "source": [
    "demographic = [main_cols[i] for i in [1,2,3,4,24,25,26,27,32,33,34]] # height, weight\n",
    "clinical = [main_cols[i] for i in [6,7,8,9,10,11,12,15,28,29,30,31,35]] \n",
    "behaivior = [main_cols[i] for i in [13,14,16,17,18,19,20,21,22,23,36,37]] # tabacco history\n",
    "target = main_cols[5]"
   ]
  },
  {
   "cell_type": "code",
   "execution_count": 12,
   "metadata": {},
   "outputs": [
    {
     "data": {
      "text/html": [
       "<div>\n",
       "<style>\n",
       "    .dataframe thead tr:only-child th {\n",
       "        text-align: right;\n",
       "    }\n",
       "\n",
       "    .dataframe thead th {\n",
       "        text-align: left;\n",
       "    }\n",
       "\n",
       "    .dataframe tbody tr th {\n",
       "        vertical-align: top;\n",
       "    }\n",
       "</style>\n",
       "<table border=\"1\" class=\"dataframe\">\n",
       "  <thead>\n",
       "    <tr style=\"text-align: right;\">\n",
       "      <th></th>\n",
       "      <th>id</th>\n",
       "      <th>pt_id</th>\n",
       "      <th>name</th>\n",
       "      <th>age</th>\n",
       "      <th>sex</th>\n",
       "      <th>marital</th>\n",
       "      <th>employed</th>\n",
       "      <th>admission_date</th>\n",
       "      <th>readmission_date</th>\n",
       "      <th>readmit_30days</th>\n",
       "      <th>...</th>\n",
       "      <th>BP</th>\n",
       "      <th>pulse</th>\n",
       "      <th>temp</th>\n",
       "      <th>resp</th>\n",
       "      <th>height</th>\n",
       "      <th>weight</th>\n",
       "      <th>bmi</th>\n",
       "      <th>sp02</th>\n",
       "      <th>have_help_at_home</th>\n",
       "      <th>home_equipment</th>\n",
       "    </tr>\n",
       "  </thead>\n",
       "  <tbody>\n",
       "    <tr>\n",
       "      <th>0</th>\n",
       "      <td>1</td>\n",
       "      <td>1</td>\n",
       "      <td>A</td>\n",
       "      <td>83</td>\n",
       "      <td>female</td>\n",
       "      <td>married</td>\n",
       "      <td>retired</td>\n",
       "      <td>7/25/2012</td>\n",
       "      <td>NaN</td>\n",
       "      <td>0</td>\n",
       "      <td>...</td>\n",
       "      <td>NaN</td>\n",
       "      <td>74.0</td>\n",
       "      <td>98.1</td>\n",
       "      <td>18.0</td>\n",
       "      <td>1.549</td>\n",
       "      <td>45.10</td>\n",
       "      <td>18.79</td>\n",
       "      <td>0.92</td>\n",
       "      <td>1.0</td>\n",
       "      <td>1.0</td>\n",
       "    </tr>\n",
       "    <tr>\n",
       "      <th>1</th>\n",
       "      <td>2</td>\n",
       "      <td>1</td>\n",
       "      <td>A</td>\n",
       "      <td>83</td>\n",
       "      <td>female</td>\n",
       "      <td>married</td>\n",
       "      <td>retired</td>\n",
       "      <td>7/13/2012</td>\n",
       "      <td>12.0</td>\n",
       "      <td>1</td>\n",
       "      <td>...</td>\n",
       "      <td>96/28</td>\n",
       "      <td>84.0</td>\n",
       "      <td>97.3</td>\n",
       "      <td>16.0</td>\n",
       "      <td>1.549</td>\n",
       "      <td>45.36</td>\n",
       "      <td>18.89</td>\n",
       "      <td>0.98</td>\n",
       "      <td>0.0</td>\n",
       "      <td>1.0</td>\n",
       "    </tr>\n",
       "    <tr>\n",
       "      <th>2</th>\n",
       "      <td>3</td>\n",
       "      <td>1</td>\n",
       "      <td>A</td>\n",
       "      <td>83</td>\n",
       "      <td>female</td>\n",
       "      <td>married</td>\n",
       "      <td>retired</td>\n",
       "      <td>7/10/2012</td>\n",
       "      <td>3.0</td>\n",
       "      <td>1</td>\n",
       "      <td>...</td>\n",
       "      <td>119/50</td>\n",
       "      <td>88.0</td>\n",
       "      <td>98.0</td>\n",
       "      <td>22.0</td>\n",
       "      <td>1.524</td>\n",
       "      <td>46.72</td>\n",
       "      <td>20.12</td>\n",
       "      <td>0.99</td>\n",
       "      <td>1.0</td>\n",
       "      <td>1.0</td>\n",
       "    </tr>\n",
       "    <tr>\n",
       "      <th>3</th>\n",
       "      <td>4</td>\n",
       "      <td>1</td>\n",
       "      <td>A</td>\n",
       "      <td>83</td>\n",
       "      <td>female</td>\n",
       "      <td>married</td>\n",
       "      <td>retired</td>\n",
       "      <td>6/27/2012</td>\n",
       "      <td>13.0</td>\n",
       "      <td>1</td>\n",
       "      <td>...</td>\n",
       "      <td>116/80</td>\n",
       "      <td>79.0</td>\n",
       "      <td>97.6</td>\n",
       "      <td>22.0</td>\n",
       "      <td>NaN</td>\n",
       "      <td>NaN</td>\n",
       "      <td>NaN</td>\n",
       "      <td>0.95</td>\n",
       "      <td>0.0</td>\n",
       "      <td>1.0</td>\n",
       "    </tr>\n",
       "    <tr>\n",
       "      <th>4</th>\n",
       "      <td>5</td>\n",
       "      <td>1</td>\n",
       "      <td>A</td>\n",
       "      <td>82</td>\n",
       "      <td>female</td>\n",
       "      <td>married</td>\n",
       "      <td>retired</td>\n",
       "      <td>10/10/2011</td>\n",
       "      <td>NaN</td>\n",
       "      <td>0</td>\n",
       "      <td>...</td>\n",
       "      <td>113/47</td>\n",
       "      <td>96.0</td>\n",
       "      <td>98.7</td>\n",
       "      <td>16.0</td>\n",
       "      <td>NaN</td>\n",
       "      <td>NaN</td>\n",
       "      <td>NaN</td>\n",
       "      <td>0.96</td>\n",
       "      <td>1.0</td>\n",
       "      <td>NaN</td>\n",
       "    </tr>\n",
       "  </tbody>\n",
       "</table>\n",
       "<p>5 rows × 44 columns</p>\n",
       "</div>"
      ],
      "text/plain": [
       "   id  pt_id name  age     sex  marital employed admission_date  \\\n",
       "0   1      1    A   83  female  married  retired      7/25/2012   \n",
       "1   2      1    A   83  female  married  retired      7/13/2012   \n",
       "2   3      1    A   83  female  married  retired      7/10/2012   \n",
       "3   4      1    A   83  female  married  retired      6/27/2012   \n",
       "4   5      1    A   82  female  married  retired     10/10/2011   \n",
       "\n",
       "   readmission_date  readmit_30days       ...            BP  pulse  temp  \\\n",
       "0               NaN               0       ...           NaN   74.0  98.1   \n",
       "1              12.0               1       ...         96/28   84.0  97.3   \n",
       "2               3.0               1       ...        119/50   88.0  98.0   \n",
       "3              13.0               1       ...        116/80   79.0  97.6   \n",
       "4               NaN               0       ...        113/47   96.0  98.7   \n",
       "\n",
       "   resp  height  weight    bmi  sp02 have_help_at_home  home_equipment  \n",
       "0  18.0   1.549   45.10  18.79  0.92               1.0             1.0  \n",
       "1  16.0   1.549   45.36  18.89  0.98               0.0             1.0  \n",
       "2  22.0   1.524   46.72  20.12  0.99               1.0             1.0  \n",
       "3  22.0     NaN     NaN    NaN  0.95               0.0             1.0  \n",
       "4  16.0     NaN     NaN    NaN  0.96               1.0             NaN  \n",
       "\n",
       "[5 rows x 44 columns]"
      ]
     },
     "execution_count": 12,
     "metadata": {},
     "output_type": "execute_result"
    }
   ],
   "source": [
    "orig.head()"
   ]
  },
  {
   "cell_type": "code",
   "execution_count": 13,
   "metadata": {},
   "outputs": [
    {
     "data": {
      "text/html": [
       "<div>\n",
       "<style>\n",
       "    .dataframe thead tr:only-child th {\n",
       "        text-align: right;\n",
       "    }\n",
       "\n",
       "    .dataframe thead th {\n",
       "        text-align: left;\n",
       "    }\n",
       "\n",
       "    .dataframe tbody tr th {\n",
       "        vertical-align: top;\n",
       "    }\n",
       "</style>\n",
       "<table border=\"1\" class=\"dataframe\">\n",
       "  <thead>\n",
       "    <tr style=\"text-align: right;\">\n",
       "      <th></th>\n",
       "      <th>admission_date</th>\n",
       "      <th>readmission_date</th>\n",
       "      <th>readmit_30days</th>\n",
       "    </tr>\n",
       "  </thead>\n",
       "  <tbody>\n",
       "    <tr>\n",
       "      <th>0</th>\n",
       "      <td>7/25/2012</td>\n",
       "      <td>NaN</td>\n",
       "      <td>0</td>\n",
       "    </tr>\n",
       "    <tr>\n",
       "      <th>1</th>\n",
       "      <td>7/13/2012</td>\n",
       "      <td>12.0</td>\n",
       "      <td>1</td>\n",
       "    </tr>\n",
       "    <tr>\n",
       "      <th>2</th>\n",
       "      <td>7/10/2012</td>\n",
       "      <td>3.0</td>\n",
       "      <td>1</td>\n",
       "    </tr>\n",
       "    <tr>\n",
       "      <th>3</th>\n",
       "      <td>6/27/2012</td>\n",
       "      <td>13.0</td>\n",
       "      <td>1</td>\n",
       "    </tr>\n",
       "    <tr>\n",
       "      <th>4</th>\n",
       "      <td>10/10/2011</td>\n",
       "      <td>NaN</td>\n",
       "      <td>0</td>\n",
       "    </tr>\n",
       "    <tr>\n",
       "      <th>5</th>\n",
       "      <td>4/5/2016</td>\n",
       "      <td>NaN</td>\n",
       "      <td>0</td>\n",
       "    </tr>\n",
       "    <tr>\n",
       "      <th>6</th>\n",
       "      <td>7/20/2015</td>\n",
       "      <td>NaN</td>\n",
       "      <td>0</td>\n",
       "    </tr>\n",
       "    <tr>\n",
       "      <th>7</th>\n",
       "      <td>1/5/2011</td>\n",
       "      <td>NaN</td>\n",
       "      <td>0</td>\n",
       "    </tr>\n",
       "    <tr>\n",
       "      <th>8</th>\n",
       "      <td>4/24/2012</td>\n",
       "      <td>NaN</td>\n",
       "      <td>0</td>\n",
       "    </tr>\n",
       "    <tr>\n",
       "      <th>9</th>\n",
       "      <td>10/15/2014</td>\n",
       "      <td>NaN</td>\n",
       "      <td>0</td>\n",
       "    </tr>\n",
       "  </tbody>\n",
       "</table>\n",
       "</div>"
      ],
      "text/plain": [
       "  admission_date  readmission_date  readmit_30days\n",
       "0      7/25/2012               NaN               0\n",
       "1      7/13/2012              12.0               1\n",
       "2      7/10/2012               3.0               1\n",
       "3      6/27/2012              13.0               1\n",
       "4     10/10/2011               NaN               0\n",
       "5       4/5/2016               NaN               0\n",
       "6      7/20/2015               NaN               0\n",
       "7       1/5/2011               NaN               0\n",
       "8      4/24/2012               NaN               0\n",
       "9     10/15/2014               NaN               0"
      ]
     },
     "execution_count": 13,
     "metadata": {},
     "output_type": "execute_result"
    }
   ],
   "source": [
    "orig.iloc[:,[7,8,9]].head(10)"
   ]
  },
  {
   "cell_type": "markdown",
   "metadata": {},
   "source": [
    "> Here, There are a few patient who have readmitted due to COPD.\n",
    "\n",
    "> TODO : Later, we can gather the readmission records by other reasons and analze it."
   ]
  },
  {
   "cell_type": "code",
   "execution_count": 14,
   "metadata": {
    "collapsed": true
   },
   "outputs": [],
   "source": [
    "orig.iloc[:,[9]] = orig.iloc[:,[9]].fillna(0)"
   ]
  },
  {
   "cell_type": "code",
   "execution_count": 15,
   "metadata": {
    "collapsed": true
   },
   "outputs": [],
   "source": [
    "orig.iloc[:,[9]] = orig.iloc[:,[9]].apply(pd.to_numeric)"
   ]
  },
  {
   "cell_type": "code",
   "execution_count": 16,
   "metadata": {},
   "outputs": [
    {
     "name": "stdout",
     "output_type": "stream",
     "text": [
      "There are 261 patients who are readmitted due to COPD among the 1565 at risk patient\n"
     ]
    }
   ],
   "source": [
    "print(\"There are %s patients who are readmitted due to COPD among the %s at risk patient\" %(int(sum(orig.iloc[:,9])),orig.shape[0]))"
   ]
  },
  {
   "cell_type": "code",
   "execution_count": 17,
   "metadata": {},
   "outputs": [
    {
     "data": {
      "text/html": [
       "<div>\n",
       "<style>\n",
       "    .dataframe thead tr:only-child th {\n",
       "        text-align: right;\n",
       "    }\n",
       "\n",
       "    .dataframe thead th {\n",
       "        text-align: left;\n",
       "    }\n",
       "\n",
       "    .dataframe tbody tr th {\n",
       "        vertical-align: top;\n",
       "    }\n",
       "</style>\n",
       "<table border=\"1\" class=\"dataframe\">\n",
       "  <thead>\n",
       "    <tr style=\"text-align: right;\">\n",
       "      <th></th>\n",
       "      <th>pt_id</th>\n",
       "      <th>age</th>\n",
       "      <th>sex</th>\n",
       "      <th>marital</th>\n",
       "      <th>employed</th>\n",
       "      <th>readmit_30days</th>\n",
       "      <th>cold_season</th>\n",
       "      <th>adm_times</th>\n",
       "      <th>past_readmit_30days</th>\n",
       "      <th>severe_allergies</th>\n",
       "      <th>...</th>\n",
       "      <th>BP</th>\n",
       "      <th>pulse</th>\n",
       "      <th>temp</th>\n",
       "      <th>resp</th>\n",
       "      <th>height</th>\n",
       "      <th>weight</th>\n",
       "      <th>bmi</th>\n",
       "      <th>sp02</th>\n",
       "      <th>have_help_at_home</th>\n",
       "      <th>home_equipment</th>\n",
       "    </tr>\n",
       "  </thead>\n",
       "  <tbody>\n",
       "    <tr>\n",
       "      <th>0</th>\n",
       "      <td>1</td>\n",
       "      <td>83</td>\n",
       "      <td>female</td>\n",
       "      <td>married</td>\n",
       "      <td>retired</td>\n",
       "      <td>0</td>\n",
       "      <td>0</td>\n",
       "      <td>4.0</td>\n",
       "      <td>1</td>\n",
       "      <td>1.0</td>\n",
       "      <td>...</td>\n",
       "      <td>NaN</td>\n",
       "      <td>74.0</td>\n",
       "      <td>98.1</td>\n",
       "      <td>18.0</td>\n",
       "      <td>1.549</td>\n",
       "      <td>45.10</td>\n",
       "      <td>18.79</td>\n",
       "      <td>0.92</td>\n",
       "      <td>1.0</td>\n",
       "      <td>1.0</td>\n",
       "    </tr>\n",
       "    <tr>\n",
       "      <th>1</th>\n",
       "      <td>1</td>\n",
       "      <td>83</td>\n",
       "      <td>female</td>\n",
       "      <td>married</td>\n",
       "      <td>retired</td>\n",
       "      <td>1</td>\n",
       "      <td>0</td>\n",
       "      <td>3.0</td>\n",
       "      <td>1</td>\n",
       "      <td>1.0</td>\n",
       "      <td>...</td>\n",
       "      <td>96/28</td>\n",
       "      <td>84.0</td>\n",
       "      <td>97.3</td>\n",
       "      <td>16.0</td>\n",
       "      <td>1.549</td>\n",
       "      <td>45.36</td>\n",
       "      <td>18.89</td>\n",
       "      <td>0.98</td>\n",
       "      <td>0.0</td>\n",
       "      <td>1.0</td>\n",
       "    </tr>\n",
       "    <tr>\n",
       "      <th>2</th>\n",
       "      <td>1</td>\n",
       "      <td>83</td>\n",
       "      <td>female</td>\n",
       "      <td>married</td>\n",
       "      <td>retired</td>\n",
       "      <td>1</td>\n",
       "      <td>0</td>\n",
       "      <td>2.0</td>\n",
       "      <td>1</td>\n",
       "      <td>1.0</td>\n",
       "      <td>...</td>\n",
       "      <td>119/50</td>\n",
       "      <td>88.0</td>\n",
       "      <td>98.0</td>\n",
       "      <td>22.0</td>\n",
       "      <td>1.524</td>\n",
       "      <td>46.72</td>\n",
       "      <td>20.12</td>\n",
       "      <td>0.99</td>\n",
       "      <td>1.0</td>\n",
       "      <td>1.0</td>\n",
       "    </tr>\n",
       "    <tr>\n",
       "      <th>3</th>\n",
       "      <td>1</td>\n",
       "      <td>83</td>\n",
       "      <td>female</td>\n",
       "      <td>married</td>\n",
       "      <td>retired</td>\n",
       "      <td>1</td>\n",
       "      <td>0</td>\n",
       "      <td>1.0</td>\n",
       "      <td>0</td>\n",
       "      <td>1.0</td>\n",
       "      <td>...</td>\n",
       "      <td>116/80</td>\n",
       "      <td>79.0</td>\n",
       "      <td>97.6</td>\n",
       "      <td>22.0</td>\n",
       "      <td>NaN</td>\n",
       "      <td>NaN</td>\n",
       "      <td>NaN</td>\n",
       "      <td>0.95</td>\n",
       "      <td>0.0</td>\n",
       "      <td>1.0</td>\n",
       "    </tr>\n",
       "    <tr>\n",
       "      <th>4</th>\n",
       "      <td>1</td>\n",
       "      <td>82</td>\n",
       "      <td>female</td>\n",
       "      <td>married</td>\n",
       "      <td>retired</td>\n",
       "      <td>0</td>\n",
       "      <td>1</td>\n",
       "      <td>0.0</td>\n",
       "      <td>0</td>\n",
       "      <td>1.0</td>\n",
       "      <td>...</td>\n",
       "      <td>113/47</td>\n",
       "      <td>96.0</td>\n",
       "      <td>98.7</td>\n",
       "      <td>16.0</td>\n",
       "      <td>NaN</td>\n",
       "      <td>NaN</td>\n",
       "      <td>NaN</td>\n",
       "      <td>0.96</td>\n",
       "      <td>1.0</td>\n",
       "      <td>NaN</td>\n",
       "    </tr>\n",
       "  </tbody>\n",
       "</table>\n",
       "<p>5 rows × 38 columns</p>\n",
       "</div>"
      ],
      "text/plain": [
       "   pt_id  age     sex  marital employed  readmit_30days  cold_season  \\\n",
       "0      1   83  female  married  retired               0            0   \n",
       "1      1   83  female  married  retired               1            0   \n",
       "2      1   83  female  married  retired               1            0   \n",
       "3      1   83  female  married  retired               1            0   \n",
       "4      1   82  female  married  retired               0            1   \n",
       "\n",
       "   adm_times  past_readmit_30days  severe_allergies       ...            BP  \\\n",
       "0        4.0                    1               1.0       ...           NaN   \n",
       "1        3.0                    1               1.0       ...         96/28   \n",
       "2        2.0                    1               1.0       ...        119/50   \n",
       "3        1.0                    0               1.0       ...        116/80   \n",
       "4        0.0                    0               1.0       ...        113/47   \n",
       "\n",
       "   pulse  temp  resp  height  weight    bmi  sp02 have_help_at_home  \\\n",
       "0   74.0  98.1  18.0   1.549   45.10  18.79  0.92               1.0   \n",
       "1   84.0  97.3  16.0   1.549   45.36  18.89  0.98               0.0   \n",
       "2   88.0  98.0  22.0   1.524   46.72  20.12  0.99               1.0   \n",
       "3   79.0  97.6  22.0     NaN     NaN    NaN  0.95               0.0   \n",
       "4   96.0  98.7  16.0     NaN     NaN    NaN  0.96               1.0   \n",
       "\n",
       "   home_equipment  \n",
       "0             1.0  \n",
       "1             1.0  \n",
       "2             1.0  \n",
       "3             1.0  \n",
       "4             NaN  \n",
       "\n",
       "[5 rows x 38 columns]"
      ]
     },
     "execution_count": 17,
     "metadata": {},
     "output_type": "execute_result"
    }
   ],
   "source": [
    "orig[main_cols].head()"
   ]
  },
  {
   "cell_type": "markdown",
   "metadata": {},
   "source": [
    "> should transform categorical data type to binary or numeric\n",
    "\n",
    "> fillna using appropriate criteria\n",
    "\n"
   ]
  },
  {
   "cell_type": "code",
   "execution_count": 18,
   "metadata": {
    "collapsed": true
   },
   "outputs": [],
   "source": [
    "main = orig[main_cols]"
   ]
  },
  {
   "cell_type": "code",
   "execution_count": 19,
   "metadata": {},
   "outputs": [
    {
     "name": "stderr",
     "output_type": "stream",
     "text": [
      "C:\\Users\\slee776\\AppData\\Local\\Continuum\\anaconda2\\lib\\site-packages\\ipykernel_launcher.py:1: SettingWithCopyWarning: \n",
      "A value is trying to be set on a copy of a slice from a DataFrame.\n",
      "Try using .loc[row_indexer,col_indexer] = value instead\n",
      "\n",
      "See the caveats in the documentation: http://pandas.pydata.org/pandas-docs/stable/indexing.html#indexing-view-versus-copy\n",
      "  \"\"\"Entry point for launching an IPython kernel.\n"
     ]
    }
   ],
   "source": [
    "main['BP'] = main['BP'].apply(lambda x : str(x).split('/')[0]) # BP_high"
   ]
  },
  {
   "cell_type": "code",
   "execution_count": 20,
   "metadata": {
    "collapsed": true
   },
   "outputs": [],
   "source": [
    "predcol = main_cols[1:]\n",
    "main = main[predcol]"
   ]
  },
  {
   "cell_type": "code",
   "execution_count": 21,
   "metadata": {},
   "outputs": [
    {
     "data": {
      "text/plain": [
       "array(['White/Caucasian', 'Black/African American', nan, 'Asian'], dtype=object)"
      ]
     },
     "execution_count": 21,
     "metadata": {},
     "output_type": "execute_result"
    }
   ],
   "source": [
    "main['race'].unique()\n"
   ]
  },
  {
   "cell_type": "markdown",
   "metadata": {},
   "source": [
    "   ## Record Selection\n",
    "    - pick a record which has null value as less as possible from each patient"
   ]
  },
  {
   "cell_type": "code",
   "execution_count": 22,
   "metadata": {
    "collapsed": true
   },
   "outputs": [],
   "source": [
    "main['numnull'] = 0\n",
    "main['selected'] = 0"
   ]
  },
  {
   "cell_type": "code",
   "execution_count": 23,
   "metadata": {
    "collapsed": true
   },
   "outputs": [],
   "source": [
    "for i in xrange(main.shape[0]):\n",
    "    main.loc[i,'numnull'] = main.iloc[i,:].isnull().values.sum()"
   ]
  },
  {
   "cell_type": "markdown",
   "metadata": {},
   "source": [
    "for i in orig['pt_id'].unique() :\n",
    "    main.loc[main.loc[orig['pt_id']==i and orig['readmit_30days']==1,'numnull'].idxmin(),'selected']=1"
   ]
  },
  {
   "cell_type": "code",
   "execution_count": 24,
   "metadata": {},
   "outputs": [
    {
     "data": {
      "text/plain": [
       "130"
      ]
     },
     "execution_count": 24,
     "metadata": {},
     "output_type": "execute_result"
    }
   ],
   "source": [
    "len(orig.loc[orig['readmit_30days']==1,'pt_id'].unique())"
   ]
  },
  {
   "cell_type": "code",
   "execution_count": 25,
   "metadata": {
    "collapsed": true
   },
   "outputs": [],
   "source": [
    "for i in orig.loc[orig['readmit_30days']==1,'pt_id'].unique() :\n",
    "    #print main.loc[orig['pt_id']==i].loc[orig['readmit_30days']==1,'numnull'].idxmin(),\n",
    "    main.loc[main.loc[orig['pt_id']==i].loc[orig['readmit_30days']==1,'numnull'].idxmin(),'selected']=1"
   ]
  },
  {
   "cell_type": "code",
   "execution_count": 26,
   "metadata": {
    "collapsed": true
   },
   "outputs": [],
   "source": [
    "for i in orig['pt_id'].unique() :\n",
    "    if i not in orig.loc[orig['readmit_30days']==1,'pt_id'].unique() : \n",
    "        main.loc[main.loc[orig['pt_id']==i].loc[orig['readmit_30days']==0,'numnull'].idxmin(),'selected']=1"
   ]
  },
  {
   "cell_type": "code",
   "execution_count": 27,
   "metadata": {
    "collapsed": true
   },
   "outputs": [],
   "source": [
    "#for i in orig.loc[orig['readmit_30days']==0,'pt_id'].unique() :\n",
    "#    main.loc[main.loc[orig['pt_id']==i].loc[orig['readmit_30days']==0,'numnull'].idxmin(),'selected']=1"
   ]
  },
  {
   "cell_type": "code",
   "execution_count": 28,
   "metadata": {
    "collapsed": true
   },
   "outputs": [],
   "source": [
    "selected = main.loc[main['selected']==1]"
   ]
  },
  {
   "cell_type": "code",
   "execution_count": 29,
   "metadata": {},
   "outputs": [
    {
     "data": {
      "text/plain": [
       "130"
      ]
     },
     "execution_count": 29,
     "metadata": {},
     "output_type": "execute_result"
    }
   ],
   "source": [
    "sum(selected.loc[:,'readmit_30days'])"
   ]
  },
  {
   "cell_type": "code",
   "execution_count": 30,
   "metadata": {},
   "outputs": [
    {
     "name": "stdout",
     "output_type": "stream",
     "text": [
      "<class 'pandas.core.frame.DataFrame'>\n",
      "Int64Index: 555 entries, 1 to 1563\n",
      "Data columns (total 39 columns):\n",
      "age                    555 non-null int64\n",
      "sex                    555 non-null object\n",
      "marital                554 non-null object\n",
      "employed               555 non-null object\n",
      "readmit_30days         555 non-null int64\n",
      "cold_season            555 non-null int64\n",
      "adm_times              555 non-null float64\n",
      "past_readmit_30days    555 non-null int64\n",
      "severe_allergies       548 non-null float64\n",
      "fev1_fvc               328 non-null float64\n",
      "copd_type              468 non-null float64\n",
      "cardiac_como           550 non-null float64\n",
      "rehab_center           553 non-null float64\n",
      "office_visit           555 non-null int64\n",
      "days_admission         555 non-null float64\n",
      "attitude_to_care       555 non-null object\n",
      "anxiety                555 non-null float64\n",
      "education              552 non-null object\n",
      "tabacco_history        467 non-null float64\n",
      "tabacco_now            552 non-null float64\n",
      "alcohol                554 non-null float64\n",
      "drug                   545 non-null float64\n",
      "sexual_act             243 non-null float64\n",
      "num_children           274 non-null float64\n",
      "year_edu               60 non-null float64\n",
      "race                   554 non-null object\n",
      "polluted_heavy_work    137 non-null float64\n",
      "BP                     555 non-null object\n",
      "pulse                  540 non-null float64\n",
      "temp                   525 non-null float64\n",
      "resp                   522 non-null float64\n",
      "height                 335 non-null float64\n",
      "weight                 375 non-null float64\n",
      "bmi                    313 non-null float64\n",
      "sp02                   534 non-null float64\n",
      "have_help_at_home      436 non-null float64\n",
      "home_equipment         461 non-null float64\n",
      "numnull                555 non-null int64\n",
      "selected               555 non-null int64\n",
      "dtypes: float64(25), int64(7), object(7)\n",
      "memory usage: 158.3+ KB\n"
     ]
    }
   ],
   "source": [
    "selected.info()"
   ]
  },
  {
   "cell_type": "markdown",
   "metadata": {},
   "source": [
    "## transformation\n",
    "- sex : male=0,female=1\n",
    "- marital : single=0,married=1,widow/divorced/divorce=2\n",
    "- employed : not employed/notemployed=0, parttime/part time=1, full time=2, home self/retired=3, disabled=4\n",
    "- attitude_to_care : R/r = 0, A/a = 1\n",
    "- education : R/r = 0, A/a = 1, D/d = 2\n",
    "- race : 'White/Caucasian' = 0, 'Black/African American' = 1, 'Asian' = 2\n"
   ]
  },
  {
   "cell_type": "code",
   "execution_count": 31,
   "metadata": {},
   "outputs": [
    {
     "name": "stderr",
     "output_type": "stream",
     "text": [
      "C:\\Users\\slee776\\AppData\\Local\\Continuum\\anaconda2\\lib\\site-packages\\pandas\\core\\indexing.py:517: SettingWithCopyWarning: \n",
      "A value is trying to be set on a copy of a slice from a DataFrame.\n",
      "Try using .loc[row_indexer,col_indexer] = value instead\n",
      "\n",
      "See the caveats in the documentation: http://pandas.pydata.org/pandas-docs/stable/indexing.html#indexing-view-versus-copy\n",
      "  self.obj[item] = s\n"
     ]
    }
   ],
   "source": [
    "selected.loc[main.loc[:,'sex']=='male','sex'] = 0\n",
    "selected.loc[main.loc[:,'sex']=='female','sex'] = 1"
   ]
  },
  {
   "cell_type": "code",
   "execution_count": 32,
   "metadata": {
    "collapsed": true
   },
   "outputs": [],
   "source": [
    "selected.loc[main.loc[:,'marital']=='single','marital'] = 0\n",
    "selected.loc[main.loc[:,'marital']=='married','marital'] = 1\n",
    "selected.loc[main.loc[:,'marital']=='widow','marital'] = 2\n",
    "selected.loc[main.loc[:,'marital']=='divorced','marital'] = 2\n",
    "selected.loc[main.loc[:,'marital']=='divorce','marital'] = 2"
   ]
  },
  {
   "cell_type": "code",
   "execution_count": 33,
   "metadata": {
    "collapsed": true
   },
   "outputs": [],
   "source": [
    "selected.loc[main.loc[:,'employed']=='not employed','employed'] = 0\n",
    "selected.loc[main.loc[:,'employed']=='notemployed','employed'] = 0\n",
    "selected.loc[main.loc[:,'employed']=='parttime','employed'] = 1\n",
    "selected.loc[main.loc[:,'employed']=='part time','employed'] = 1\n",
    "selected.loc[main.loc[:,'employed']=='full time','employed'] = 2\n",
    "selected.loc[main.loc[:,'employed']=='home self','employed'] = 3\n",
    "selected.loc[main.loc[:,'employed']=='retired','employed'] = 3\n",
    "selected.loc[main.loc[:,'employed']=='disabled','employed'] = 4"
   ]
  },
  {
   "cell_type": "code",
   "execution_count": 34,
   "metadata": {
    "collapsed": true
   },
   "outputs": [],
   "source": [
    "selected.loc[main.loc[:,'attitude_to_care']=='R','attitude_to_care'] = 0\n",
    "selected.loc[main.loc[:,'attitude_to_care']=='r','attitude_to_care'] = 0\n",
    "selected.loc[main.loc[:,'attitude_to_care']=='A','attitude_to_care'] = 1\n",
    "selected.loc[main.loc[:,'attitude_to_care']=='a','attitude_to_care'] = 1"
   ]
  },
  {
   "cell_type": "code",
   "execution_count": 35,
   "metadata": {
    "collapsed": true
   },
   "outputs": [],
   "source": [
    "selected.loc[main.loc[:,'education']=='R','education'] = 0\n",
    "selected.loc[main.loc[:,'education']=='r','education'] = 0\n",
    "selected.loc[main.loc[:,'education']=='A','education'] = 1\n",
    "selected.loc[main.loc[:,'education']=='a','education'] = 1\n",
    "selected.loc[main.loc[:,'education']=='D','education'] = 2\n",
    "selected.loc[main.loc[:,'education']=='d','education'] = 2"
   ]
  },
  {
   "cell_type": "code",
   "execution_count": 36,
   "metadata": {
    "collapsed": true
   },
   "outputs": [],
   "source": [
    "selected.loc[main.loc[:,'race']=='White/Caucasian','race'] = 0\n",
    "selected.loc[main.loc[:,'race']=='Black/African American','race'] = 1\n",
    "selected.loc[main.loc[:,'race']=='Asian','race'] = 2"
   ]
  },
  {
   "cell_type": "code",
   "execution_count": 37,
   "metadata": {},
   "outputs": [
    {
     "name": "stdout",
     "output_type": "stream",
     "text": [
      "<class 'pandas.core.frame.DataFrame'>\n",
      "Int64Index: 555 entries, 1 to 1563\n",
      "Data columns (total 39 columns):\n",
      "age                    555 non-null int64\n",
      "sex                    555 non-null object\n",
      "marital                554 non-null object\n",
      "employed               555 non-null object\n",
      "readmit_30days         555 non-null int64\n",
      "cold_season            555 non-null int64\n",
      "adm_times              555 non-null float64\n",
      "past_readmit_30days    555 non-null int64\n",
      "severe_allergies       548 non-null float64\n",
      "fev1_fvc               328 non-null float64\n",
      "copd_type              468 non-null float64\n",
      "cardiac_como           550 non-null float64\n",
      "rehab_center           553 non-null float64\n",
      "office_visit           555 non-null int64\n",
      "days_admission         555 non-null float64\n",
      "attitude_to_care       555 non-null object\n",
      "anxiety                555 non-null float64\n",
      "education              552 non-null object\n",
      "tabacco_history        467 non-null float64\n",
      "tabacco_now            552 non-null float64\n",
      "alcohol                554 non-null float64\n",
      "drug                   545 non-null float64\n",
      "sexual_act             243 non-null float64\n",
      "num_children           274 non-null float64\n",
      "year_edu               60 non-null float64\n",
      "race                   554 non-null object\n",
      "polluted_heavy_work    137 non-null float64\n",
      "BP                     555 non-null object\n",
      "pulse                  540 non-null float64\n",
      "temp                   525 non-null float64\n",
      "resp                   522 non-null float64\n",
      "height                 335 non-null float64\n",
      "weight                 375 non-null float64\n",
      "bmi                    313 non-null float64\n",
      "sp02                   534 non-null float64\n",
      "have_help_at_home      436 non-null float64\n",
      "home_equipment         461 non-null float64\n",
      "numnull                555 non-null int64\n",
      "selected               555 non-null int64\n",
      "dtypes: float64(25), int64(7), object(7)\n",
      "memory usage: 158.3+ KB\n"
     ]
    }
   ],
   "source": [
    "selected.info()"
   ]
  },
  {
   "cell_type": "markdown",
   "metadata": {},
   "source": [
    "- some weird values - check"
   ]
  },
  {
   "cell_type": "code",
   "execution_count": 38,
   "metadata": {
    "collapsed": true
   },
   "outputs": [],
   "source": [
    "#main.loc[61,'pulse'] = np.nan\n",
    "#main.loc[1347,'pulse'] = np.nan"
   ]
  },
  {
   "cell_type": "code",
   "execution_count": null,
   "metadata": {
    "collapsed": true
   },
   "outputs": [],
   "source": []
  },
  {
   "cell_type": "markdown",
   "metadata": {},
   "source": [
    "## imputation \n",
    "-- Height, Weight, BMI : if there are records of the same person and they have this info, copy those.\n",
    "-- Have help, Home Equipment : if NA : then 0\n",
    "- age : find for the one record\n",
    "-- marital, employed : impute the most frequent one (maybe, 'single','retired') or imply from age.\n",
    "-- readmission day, in 30 day readmit : if NA, then 0\n",
    "-- Severe allergies : if NA, then 0\n",
    "-- COPD type : check the distribution\n",
    "-- cardiac como : if NA, then 0\n",
    "-- rehab : if NA, then 0 (ask to hospital about whether it is the real rehab info during intervention period\n",
    "-- atttude to care, anxiety, education : check the same person's other records, or impute the most frequent one\n",
    "- Tobacco use history : check the same person's other records, or check the current status\n",
    "- whether use tabacco now, alcochol, drug : check the same person's other records or 0\n",
    "-- sexual activity  : too many NA. maybe 0? (ask to hospital)\n",
    "- number of children : Later. check the records in Epic\n",
    "- years of edu : ignore first, and if it is important variable in the result, then ask hospital. or 0?\n",
    "-- polluted/heavy work : too many NA. donno. maybe 0? (ask hospital)\n",
    "\n",
    "- FEV1/FVC, BP, pulse, temp, resp, sp02 : think about it later. it can be dangerous to impute with random numbers\n",
    "\n"
   ]
  },
  {
   "cell_type": "code",
   "execution_count": 39,
   "metadata": {
    "collapsed": true
   },
   "outputs": [],
   "source": [
    "for col in ['have_help_at_home','home_equipment','cardiac_como',\n",
    "            'rehab_center','office_visit','polluted_heavy_work','severe_allergies','sexual_act'] : \n",
    "    selected.loc[pd.isnull(selected.loc[:,col]),col]  = 0"
   ]
  },
  {
   "cell_type": "code",
   "execution_count": 40,
   "metadata": {
    "collapsed": true
   },
   "outputs": [],
   "source": [
    "for col in ['marital', 'copd_type', 'attitude_to_care', 'anxiety', 'education'] :\n",
    "    selected.loc[pd.isnull(selected.loc[:,col]),col]  = selected.mode().loc[:,col].tolist()[0]\n"
   ]
  },
  {
   "cell_type": "code",
   "execution_count": 41,
   "metadata": {
    "collapsed": true
   },
   "outputs": [],
   "source": [
    "selected.to_pickle('1R1P-focus.pkl')"
   ]
  },
  {
   "cell_type": "code",
   "execution_count": 42,
   "metadata": {},
   "outputs": [
    {
     "data": {
      "text/html": [
       "<div>\n",
       "<style>\n",
       "    .dataframe thead tr:only-child th {\n",
       "        text-align: right;\n",
       "    }\n",
       "\n",
       "    .dataframe thead th {\n",
       "        text-align: left;\n",
       "    }\n",
       "\n",
       "    .dataframe tbody tr th {\n",
       "        vertical-align: top;\n",
       "    }\n",
       "</style>\n",
       "<table border=\"1\" class=\"dataframe\">\n",
       "  <thead>\n",
       "    <tr style=\"text-align: right;\">\n",
       "      <th></th>\n",
       "      <th>age</th>\n",
       "      <th>sex</th>\n",
       "      <th>marital</th>\n",
       "      <th>employed</th>\n",
       "      <th>readmit_30days</th>\n",
       "      <th>cold_season</th>\n",
       "      <th>adm_times</th>\n",
       "      <th>past_readmit_30days</th>\n",
       "      <th>severe_allergies</th>\n",
       "      <th>fev1_fvc</th>\n",
       "      <th>...</th>\n",
       "      <th>temp</th>\n",
       "      <th>resp</th>\n",
       "      <th>height</th>\n",
       "      <th>weight</th>\n",
       "      <th>bmi</th>\n",
       "      <th>sp02</th>\n",
       "      <th>have_help_at_home</th>\n",
       "      <th>home_equipment</th>\n",
       "      <th>numnull</th>\n",
       "      <th>selected</th>\n",
       "    </tr>\n",
       "  </thead>\n",
       "  <tbody>\n",
       "    <tr>\n",
       "      <th>1</th>\n",
       "      <td>83</td>\n",
       "      <td>1</td>\n",
       "      <td>1</td>\n",
       "      <td>3</td>\n",
       "      <td>1</td>\n",
       "      <td>0</td>\n",
       "      <td>3.0</td>\n",
       "      <td>1</td>\n",
       "      <td>1.0</td>\n",
       "      <td>0.56</td>\n",
       "      <td>...</td>\n",
       "      <td>97.3</td>\n",
       "      <td>16.0</td>\n",
       "      <td>1.549</td>\n",
       "      <td>45.360</td>\n",
       "      <td>18.89</td>\n",
       "      <td>0.98</td>\n",
       "      <td>0.0</td>\n",
       "      <td>1.0</td>\n",
       "      <td>3</td>\n",
       "      <td>1</td>\n",
       "    </tr>\n",
       "    <tr>\n",
       "      <th>5</th>\n",
       "      <td>70</td>\n",
       "      <td>1</td>\n",
       "      <td>1</td>\n",
       "      <td>3</td>\n",
       "      <td>0</td>\n",
       "      <td>0</td>\n",
       "      <td>0.0</td>\n",
       "      <td>0</td>\n",
       "      <td>1.0</td>\n",
       "      <td>0.32</td>\n",
       "      <td>...</td>\n",
       "      <td>97.2</td>\n",
       "      <td>20.0</td>\n",
       "      <td>1.626</td>\n",
       "      <td>53.000</td>\n",
       "      <td>20.05</td>\n",
       "      <td>0.95</td>\n",
       "      <td>1.0</td>\n",
       "      <td>0.0</td>\n",
       "      <td>0</td>\n",
       "      <td>1</td>\n",
       "    </tr>\n",
       "    <tr>\n",
       "      <th>7</th>\n",
       "      <td>49</td>\n",
       "      <td>1</td>\n",
       "      <td>1</td>\n",
       "      <td>0</td>\n",
       "      <td>0</td>\n",
       "      <td>1</td>\n",
       "      <td>0.0</td>\n",
       "      <td>0</td>\n",
       "      <td>1.0</td>\n",
       "      <td>0.22</td>\n",
       "      <td>...</td>\n",
       "      <td>98.8</td>\n",
       "      <td>18.0</td>\n",
       "      <td>NaN</td>\n",
       "      <td>57.600</td>\n",
       "      <td>19.31</td>\n",
       "      <td>0.93</td>\n",
       "      <td>1.0</td>\n",
       "      <td>0.0</td>\n",
       "      <td>1</td>\n",
       "      <td>1</td>\n",
       "    </tr>\n",
       "    <tr>\n",
       "      <th>8</th>\n",
       "      <td>69</td>\n",
       "      <td>1</td>\n",
       "      <td>2</td>\n",
       "      <td>0</td>\n",
       "      <td>0</td>\n",
       "      <td>0</td>\n",
       "      <td>0.0</td>\n",
       "      <td>0</td>\n",
       "      <td>1.0</td>\n",
       "      <td>NaN</td>\n",
       "      <td>...</td>\n",
       "      <td>97.7</td>\n",
       "      <td>20.0</td>\n",
       "      <td>1.727</td>\n",
       "      <td>81.000</td>\n",
       "      <td>27.15</td>\n",
       "      <td>NaN</td>\n",
       "      <td>1.0</td>\n",
       "      <td>0.0</td>\n",
       "      <td>6</td>\n",
       "      <td>1</td>\n",
       "    </tr>\n",
       "    <tr>\n",
       "      <th>9</th>\n",
       "      <td>44</td>\n",
       "      <td>1</td>\n",
       "      <td>0</td>\n",
       "      <td>4</td>\n",
       "      <td>0</td>\n",
       "      <td>1</td>\n",
       "      <td>0.0</td>\n",
       "      <td>0</td>\n",
       "      <td>1.0</td>\n",
       "      <td>NaN</td>\n",
       "      <td>...</td>\n",
       "      <td>NaN</td>\n",
       "      <td>NaN</td>\n",
       "      <td>NaN</td>\n",
       "      <td>87.091</td>\n",
       "      <td>30.99</td>\n",
       "      <td>NaN</td>\n",
       "      <td>1.0</td>\n",
       "      <td>0.0</td>\n",
       "      <td>7</td>\n",
       "      <td>1</td>\n",
       "    </tr>\n",
       "  </tbody>\n",
       "</table>\n",
       "<p>5 rows × 39 columns</p>\n",
       "</div>"
      ],
      "text/plain": [
       "   age sex marital employed  readmit_30days  cold_season  adm_times  \\\n",
       "1   83   1       1        3               1            0        3.0   \n",
       "5   70   1       1        3               0            0        0.0   \n",
       "7   49   1       1        0               0            1        0.0   \n",
       "8   69   1       2        0               0            0        0.0   \n",
       "9   44   1       0        4               0            1        0.0   \n",
       "\n",
       "   past_readmit_30days  severe_allergies  fev1_fvc    ...     temp  resp  \\\n",
       "1                    1               1.0      0.56    ...     97.3  16.0   \n",
       "5                    0               1.0      0.32    ...     97.2  20.0   \n",
       "7                    0               1.0      0.22    ...     98.8  18.0   \n",
       "8                    0               1.0       NaN    ...     97.7  20.0   \n",
       "9                    0               1.0       NaN    ...      NaN   NaN   \n",
       "\n",
       "   height  weight    bmi  sp02  have_help_at_home home_equipment  numnull  \\\n",
       "1   1.549  45.360  18.89  0.98                0.0            1.0        3   \n",
       "5   1.626  53.000  20.05  0.95                1.0            0.0        0   \n",
       "7     NaN  57.600  19.31  0.93                1.0            0.0        1   \n",
       "8   1.727  81.000  27.15   NaN                1.0            0.0        6   \n",
       "9     NaN  87.091  30.99   NaN                1.0            0.0        7   \n",
       "\n",
       "   selected  \n",
       "1         1  \n",
       "5         1  \n",
       "7         1  \n",
       "8         1  \n",
       "9         1  \n",
       "\n",
       "[5 rows x 39 columns]"
      ]
     },
     "execution_count": 42,
     "metadata": {},
     "output_type": "execute_result"
    }
   ],
   "source": [
    "selected. head()"
   ]
  },
  {
   "cell_type": "markdown",
   "metadata": {},
   "source": [
    "# Modeling"
   ]
  },
  {
   "cell_type": "markdown",
   "metadata": {},
   "source": [
    "## 1. Logistic Regression\n",
    "- Using all the attributes, model the logistic regression, and figure out what attributes are effective for the model\n",
    "- Using all the possible combinations of the attribute, model the logistic regression, and find out which combination is most simple and most effective to predict readmission\n",
    "\n",
    "- After finding out which attribute is most effectvie, make a model to use only the attribute. How much does it affect? Can I use this attribute for an indicator?\n",
    "- Can I make a sensitivity analysis for one \"variable\" attribute?"
   ]
  },
  {
   "cell_type": "markdown",
   "metadata": {},
   "source": [
    "- NOTE : actually I need to make dummy variables for categorical variables, but it I roughly run modeling step first. I'll do the right steps later."
   ]
  },
  {
   "cell_type": "code",
   "execution_count": 43,
   "metadata": {
    "collapsed": true
   },
   "outputs": [],
   "source": [
    "import scipy\n",
    "from sklearn.linear_model import LogisticRegression as logReg\n",
    "from sklearn.model_selection import cross_val_score\n",
    "from sklearn.metrics import accuracy_score"
   ]
  },
  {
   "cell_type": "code",
   "execution_count": 44,
   "metadata": {},
   "outputs": [
    {
     "name": "stdout",
     "output_type": "stream",
     "text": [
      "<class 'pandas.core.frame.DataFrame'>\n",
      "Int64Index: 555 entries, 1 to 1563\n",
      "Data columns (total 39 columns):\n",
      "age                    555 non-null int64\n",
      "sex                    555 non-null object\n",
      "marital                555 non-null object\n",
      "employed               555 non-null object\n",
      "readmit_30days         555 non-null int64\n",
      "cold_season            555 non-null int64\n",
      "adm_times              555 non-null float64\n",
      "past_readmit_30days    555 non-null int64\n",
      "severe_allergies       555 non-null float64\n",
      "fev1_fvc               328 non-null float64\n",
      "copd_type              555 non-null float64\n",
      "cardiac_como           555 non-null float64\n",
      "rehab_center           555 non-null float64\n",
      "office_visit           555 non-null int64\n",
      "days_admission         555 non-null float64\n",
      "attitude_to_care       555 non-null object\n",
      "anxiety                555 non-null float64\n",
      "education              555 non-null object\n",
      "tabacco_history        467 non-null float64\n",
      "tabacco_now            552 non-null float64\n",
      "alcohol                554 non-null float64\n",
      "drug                   545 non-null float64\n",
      "sexual_act             555 non-null float64\n",
      "num_children           274 non-null float64\n",
      "year_edu               60 non-null float64\n",
      "race                   554 non-null object\n",
      "polluted_heavy_work    555 non-null float64\n",
      "BP                     555 non-null object\n",
      "pulse                  540 non-null float64\n",
      "temp                   525 non-null float64\n",
      "resp                   522 non-null float64\n",
      "height                 335 non-null float64\n",
      "weight                 375 non-null float64\n",
      "bmi                    313 non-null float64\n",
      "sp02                   534 non-null float64\n",
      "have_help_at_home      555 non-null float64\n",
      "home_equipment         555 non-null float64\n",
      "numnull                555 non-null int64\n",
      "selected               555 non-null int64\n",
      "dtypes: float64(25), int64(7), object(7)\n",
      "memory usage: 158.3+ KB\n"
     ]
    }
   ],
   "source": [
    "selected.info()"
   ]
  },
  {
   "cell_type": "markdown",
   "metadata": {},
   "source": [
    "- further take another way of imputation"
   ]
  },
  {
   "cell_type": "code",
   "execution_count": 45,
   "metadata": {
    "collapsed": true
   },
   "outputs": [],
   "source": [
    "for col in ['tabacco_history', 'tabacco_now', 'alcohol', 'drug', 'num_children', 'race'] :\n",
    "    selected.loc[pd.isnull(selected.loc[:,col]),col]  = selected.mode().loc[:,col].tolist()[0]\n"
   ]
  },
  {
   "cell_type": "code",
   "execution_count": 47,
   "metadata": {
    "collapsed": true
   },
   "outputs": [],
   "source": [
    "dropped = selected.loc[:, selected.columns != 'year_edu']\n",
    "#dropped = dropped.dropna()"
   ]
  },
  {
   "cell_type": "code",
   "execution_count": 48,
   "metadata": {
    "collapsed": true
   },
   "outputs": [],
   "source": [
    "for col in dropped.columns :\n",
    "    dropped.loc[:,col] = dropped.loc[:,col].apply(lambda x : float(x))"
   ]
  },
  {
   "cell_type": "code",
   "execution_count": 49,
   "metadata": {
    "collapsed": true
   },
   "outputs": [],
   "source": [
    "X = dropped.loc[:, dropped.columns != 'readmit_30days'].as_matrix()\n",
    "y = dropped.loc[:, dropped.columns == 'readmit_30days'].as_matrix()\n",
    "#y = y.reshape(y.shape[0],)"
   ]
  },
  {
   "cell_type": "code",
   "execution_count": 50,
   "metadata": {
    "collapsed": true
   },
   "outputs": [],
   "source": [
    "from sklearn.pipeline import Pipeline\n",
    "from sklearn.preprocessing import Imputer"
   ]
  },
  {
   "cell_type": "code",
   "execution_count": 51,
   "metadata": {
    "collapsed": true
   },
   "outputs": [],
   "source": [
    "from sklearn.model_selection import train_test_split\n",
    "X_train, X_test, y_train, y_test = train_test_split(X,y,test_size=0.15, random_state=123, stratify=y)"
   ]
  },
  {
   "cell_type": "code",
   "execution_count": 52,
   "metadata": {
    "collapsed": true
   },
   "outputs": [],
   "source": [
    "estimator = Pipeline([(\"imputer\", Imputer(#missing_values=\"NaN\",\n",
    "                                          strategy=\"mean\",\n",
    "                                          axis=0)),\n",
    "                      (\"logistic\",logReg(random_state = 0))])\n",
    "                      #(\"forest\", RandomForestRegressor(random_state=0,\n",
    "                      #                                 n_estimators=100))])"
   ]
  },
  {
   "cell_type": "code",
   "execution_count": 53,
   "metadata": {
    "collapsed": true
   },
   "outputs": [],
   "source": [
    "#LR1 = logReg(random_state = 0) # with seed 0"
   ]
  },
  {
   "cell_type": "code",
   "execution_count": 54,
   "metadata": {},
   "outputs": [
    {
     "name": "stderr",
     "output_type": "stream",
     "text": [
      "C:\\Users\\slee776\\AppData\\Local\\Continuum\\anaconda2\\lib\\site-packages\\sklearn\\utils\\validation.py:547: DataConversionWarning: A column-vector y was passed when a 1d array was expected. Please change the shape of y to (n_samples, ), for example using ravel().\n",
      "  y = column_or_1d(y, warn=True)\n"
     ]
    },
    {
     "data": {
      "text/plain": [
       "Pipeline(memory=None,\n",
       "     steps=[('imputer', Imputer(axis=0, copy=True, missing_values='NaN', strategy='mean', verbose=0)), ('logistic', LogisticRegression(C=1.0, class_weight=None, dual=False, fit_intercept=True,\n",
       "          intercept_scaling=1, max_iter=100, multi_class='ovr', n_jobs=1,\n",
       "          penalty='l2', random_state=0, solver='liblinear', tol=0.0001,\n",
       "          verbose=0, warm_start=False))])"
      ]
     },
     "execution_count": 54,
     "metadata": {},
     "output_type": "execute_result"
    }
   ],
   "source": [
    "#LR1.fit(X,y)\n",
    "estimator.fit(X_train,y_train)\n"
   ]
  },
  {
   "cell_type": "code",
   "execution_count": 55,
   "metadata": {},
   "outputs": [
    {
     "name": "stdout",
     "output_type": "stream",
     "text": [
      "[ 0.  0.  0.  0.  0.  1.  0.  0.  0.  0.  0.  0.  0.  0.  0.  0.  0.  0.\n",
      "  0.  0.  0.  0.  0.  0.  0.  0.  0.  0.  0.  0.  0.  0.  0.  1.  0.  0.\n",
      "  0.  0.  0.  0.  0.  0.  0.  0.  0.  0.  0.  0.  0.  0.  0.  0.  1.  0.\n",
      "  0.  0.  0.  1.  0.  0.  0.  1.  0.  0.  0.  0.  1.  0.  0.  0.  0.  0.\n",
      "  0.  0.  0.  0.  0.  0.  0.  0.  0.  0.  1.  1.]\n"
     ]
    }
   ],
   "source": [
    "y_pred = estimator.predict(X_test)\n",
    "print y_pred"
   ]
  },
  {
   "cell_type": "code",
   "execution_count": 56,
   "metadata": {},
   "outputs": [
    {
     "name": "stdout",
     "output_type": "stream",
     "text": [
      "0.785714285714\n"
     ]
    }
   ],
   "source": [
    "print accuracy_score(y_test,y_pred) # results 78.6% accuracy"
   ]
  },
  {
   "cell_type": "markdown",
   "metadata": {},
   "source": [
    "## Dummy variables\n",
    "### Categorical Variables\n",
    "- marital\n",
    "- employed\n",
    "- education\n",
    "- race\n",
    "- copd_type\n"
   ]
  },
  {
   "cell_type": "code",
   "execution_count": 57,
   "metadata": {},
   "outputs": [
    {
     "name": "stderr",
     "output_type": "stream",
     "text": [
      "C:\\Users\\slee776\\AppData\\Local\\Continuum\\anaconda2\\lib\\site-packages\\ipykernel_launcher.py:7: SettingWithCopyWarning: \n",
      "A value is trying to be set on a copy of a slice from a DataFrame\n",
      "\n",
      "See the caveats in the documentation: http://pandas.pydata.org/pandas-docs/stable/indexing.html#indexing-view-versus-copy\n",
      "  import sys\n"
     ]
    }
   ],
   "source": [
    "marital = pd.get_dummies(data=dropped['marital'],drop_first=True,prefix='marital')\n",
    "employed = pd.get_dummies(data=dropped['employed'],drop_first=True,prefix='employed') #drop first column to avoid dummy trap\n",
    "education = pd.get_dummies(data=dropped['education'],drop_first=True,prefix='education')\n",
    "race = pd.get_dummies(data=dropped['race'],drop_first=True,prefix='race')\n",
    "copd_type = pd.get_dummies(data=dropped['copd_type'],drop_first=True,prefix='copd_type')\n",
    "\n",
    "dropped.drop(['marital','employed','education','race','copd_type'],axis=1,inplace=True)\n",
    "dropped = pd.concat([dropped,marital,employed,education,race,copd_type],axis=1)"
   ]
  },
  {
   "cell_type": "code",
   "execution_count": 58,
   "metadata": {
    "collapsed": true
   },
   "outputs": [],
   "source": [
    "#dropped.to_pickle('inputdata_dummy.pkl')"
   ]
  },
  {
   "cell_type": "code",
   "execution_count": 59,
   "metadata": {},
   "outputs": [
    {
     "name": "stdout",
     "output_type": "stream",
     "text": [
      "There are 130 patients who are readmitted due to COPD among the 555 at risk patient\n"
     ]
    }
   ],
   "source": [
    "print(\"There are %s patients who are readmitted due to COPD among the %s at risk patient\" %(int(sum(dropped.loc[:,'readmit_30days'])),dropped.shape[0]))"
   ]
  },
  {
   "cell_type": "code",
   "execution_count": 60,
   "metadata": {},
   "outputs": [
    {
     "data": {
      "text/plain": [
       "0.76576576576576572"
      ]
     },
     "execution_count": 60,
     "metadata": {},
     "output_type": "execute_result"
    }
   ],
   "source": [
    "(dropped.shape[0]-(sum(dropped.loc[:,'readmit_30days'])))/dropped.shape[0]"
   ]
  }
 ],
 "metadata": {
  "kernelspec": {
   "display_name": "Python 2",
   "language": "python",
   "name": "python2"
  },
  "language_info": {
   "codemirror_mode": {
    "name": "ipython",
    "version": 2
   },
   "file_extension": ".py",
   "mimetype": "text/x-python",
   "name": "python",
   "nbconvert_exporter": "python",
   "pygments_lexer": "ipython2",
   "version": "2.7.13"
  }
 },
 "nbformat": 4,
 "nbformat_minor": 1
}
